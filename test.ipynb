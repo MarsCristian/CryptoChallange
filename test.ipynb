{
 "cells": [
  {
   "cell_type": "code",
   "execution_count": 58,
   "metadata": {},
   "outputs": [
    {
     "data": {
      "text/plain": [
       "23100968017720896308142726210760090303685531240238199196008859763981652205506340655168343404071434285101666629919290426194870557771095141947063934470252524257148824837268734415429695126580765788209528863564760365688286939300652012361572438426017385698086786360618189074757048648366673219040834473912944040639067802675064432052579288213005690489314384563700719498774215994206573872743577331791632646360167204726071473550166352105846398882839536678231196049366922101248123134471969979140872019388710099498661196151810866815766294697747075990062218520627386294462187290609781112811727732019579035666599304557321222754061"
      ]
     },
     "execution_count": 58,
     "metadata": {},
     "output_type": "execute_result"
    }
   ],
   "source": [
    "from Crypto.Util import number\n",
    "number.getPrime(2048)\n"
   ]
  },
  {
   "cell_type": "code",
   "execution_count": null,
   "metadata": {},
   "outputs": [],
   "source": [
    "\n",
    "\n",
    "number= getRandomNBitInteger(N, randfunc) | 1\n",
    "while (not isPrime(number, randfunc=randfunc)):\n",
    "    number=number+2"
   ]
  }
 ],
 "metadata": {
  "kernelspec": {
   "display_name": "Python 3",
   "language": "python",
   "name": "python3"
  },
  "language_info": {
   "codemirror_mode": {
    "name": "ipython",
    "version": 3
   },
   "file_extension": ".py",
   "mimetype": "text/x-python",
   "name": "python",
   "nbconvert_exporter": "python",
   "pygments_lexer": "ipython3",
   "version": "3.11.1"
  }
 },
 "nbformat": 4,
 "nbformat_minor": 2
}
